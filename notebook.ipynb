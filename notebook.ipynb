{
 "cells": [
  {
   "cell_type": "code",
   "execution_count": 3,
   "metadata": {},
   "outputs": [
    {
     "name": "stdout",
     "output_type": "stream",
     "text": [
      "130\n",
      "130\n"
     ]
    }
   ],
   "source": [
    "import numpy as np\n",
    "v1 = np.array([1,2,3,4,5])\n",
    "v2 = np.array([6,7,8,9,10])\n",
    "\n",
    "res1 = np.dot(v1,v2)\n",
    "res2 = np.dot(v2,v1)\n",
    "\n",
    "print(res1)\n",
    "print(res2)\n"
   ]
  },
  {
   "cell_type": "code",
   "execution_count": 15,
   "metadata": {},
   "outputs": [
    {
     "name": "stdout",
     "output_type": "stream",
     "text": [
      "[[5 5 7 9 5 7]\n",
      " [3 6 1 4 8 3]\n",
      " [1 1 3 6 9 4]\n",
      " [5 3 7 1 8 8]]\n",
      " \n",
      "[[1 5 4 1 8 2]\n",
      " [6 7 8 3 3 3]\n",
      " [4 5 5 8 2 4]\n",
      " [1 5 3 9 9 7]]\n"
     ]
    }
   ],
   "source": [
    "mat1 = np.random.randint(1,10,(4,6))\n",
    "mat2 = np.random.randint(1,10,(4,6))\n",
    "print(mat1)\n",
    "print(\" \")\n",
    "print(mat2)"
   ]
  },
  {
   "cell_type": "code",
   "execution_count": 19,
   "metadata": {},
   "outputs": [
    {
     "data": {
      "text/plain": [
       "array([ 32.,  87.,  72.,  78., 154.,  95.])"
      ]
     },
     "execution_count": 19,
     "metadata": {},
     "output_type": "execute_result"
    }
   ],
   "source": [
    "arr = np.zeros(mat1.shape[1])\n",
    "for i in range(mat1.shape[1]):\n",
    "    arr[i] = np.dot(mat1[:,i],mat2[:,i])\n",
    "\n",
    "arr\n",
    "    "
   ]
  },
  {
   "cell_type": "code",
   "execution_count": 23,
   "metadata": {},
   "outputs": [
    {
     "name": "stdout",
     "output_type": "stream",
     "text": [
      "[4 9]\n",
      "[9 7]\n"
     ]
    },
    {
     "data": {
      "text/plain": [
       "True"
      ]
     },
     "execution_count": 23,
     "metadata": {},
     "output_type": "execute_result"
    }
   ],
   "source": [
    "vec1 = np.random.randint(1,10,(2))\n",
    "vec2 = np.random.randint(1,10,(2))\n",
    "\n",
    "print(vec1)\n",
    "print(vec2)\n",
    "\n",
    "res1 = np.dot(vec1,vec2)\n",
    "res2 = np.dot(vec2,vec1)\n",
    "\n",
    "con = bool(res1 == res2)\n",
    "con\n",
    "\n"
   ]
  },
  {
   "cell_type": "code",
   "execution_count": 25,
   "metadata": {},
   "outputs": [
    {
     "name": "stdout",
     "output_type": "stream",
     "text": [
      "13\n"
     ]
    },
    {
     "data": {
      "text/plain": [
       "3.605551275463989"
      ]
     },
     "execution_count": 25,
     "metadata": {},
     "output_type": "execute_result"
    }
   ],
   "source": [
    "vec = np.array([2,3])\n",
    "dot = np.dot(vec,vec)\n",
    "length = np.sqrt(dot)\n",
    "print(dot)\n",
    "length"
   ]
  },
  {
   "cell_type": "code",
   "execution_count": 41,
   "metadata": {},
   "outputs": [
    {
     "name": "stdout",
     "output_type": "stream",
     "text": [
      "1.5369634774203733\n",
      "6.147853909681493\n"
     ]
    },
    {
     "data": {
      "text/plain": [
       "True"
      ]
     },
     "execution_count": 41,
     "metadata": {},
     "output_type": "execute_result"
    }
   ],
   "source": [
    "vec1 = np.random.randn(3)\n",
    "vec2 = np.random.randn(3)\n",
    "\n",
    "scalar = -2\n",
    "res1 = np.dot(vec1,vec2)\n",
    "res2 = np.dot(vec1*scalar,vec2*scalar)\n",
    "print(res1)\n",
    "print(res2)\n",
    "bool(np.sign(res1) == np.sign(res2))\n",
    "\n",
    "#the sign of the dot product is invariant to scalar multiplication\n",
    "\n",
    "\n",
    "\n"
   ]
  },
  {
   "cell_type": "code",
   "execution_count": 44,
   "metadata": {},
   "outputs": [
    {
     "name": "stdout",
     "output_type": "stream",
     "text": [
      "[[5 4 6]\n",
      " [4 7 2]\n",
      " [1 2 1]]\n",
      " \n",
      "[[6 9 8]\n",
      " [8 1 8]\n",
      " [3 8 8]]\n",
      " \n",
      "[[22 26 28]\n",
      " [24 16 20]\n",
      " [ 8 20 18]]\n",
      " \n",
      "[[22 26 28]\n",
      " [24 16 20]\n",
      " [ 8 20 18]]\n"
     ]
    }
   ],
   "source": [
    "mat1 = np.random.randint(1,10,(3,3))\n",
    "mat2 = np.random.randint(1,10,(3,3))\n",
    "\n",
    "print(mat1)\n",
    "print(\" \")\n",
    "print(mat2)\n",
    "\n",
    "scalar = 2\n",
    "res1 = mat1*scalar + mat2*scalar\n",
    "res2 = scalar * (mat1 + mat2)\n",
    "print(\" \")\n",
    "\n",
    "print(res1)\n",
    "print(\" \")\n",
    "print(res2)\n",
    "\n",
    "\n",
    "\n"
   ]
  },
  {
   "cell_type": "code",
   "execution_count": 51,
   "metadata": {},
   "outputs": [
    {
     "data": {
      "text/plain": [
       "True"
      ]
     },
     "execution_count": 51,
     "metadata": {},
     "output_type": "execute_result"
    }
   ],
   "source": [
    "M1 = np.round(6*np.random.randn(4,4))\n",
    "M2 = np.round(6*np.random.randn(4,4))\n",
    "\n",
    "tr1 = np.trace(M1 + M2)\n",
    "tr2 = np.trace(M1) + np.trace(M2)\n",
    "bool(tr1 == tr2)\n",
    "\n"
   ]
  },
  {
   "cell_type": "code",
   "execution_count": 32,
   "metadata": {},
   "outputs": [
    {
     "name": "stdout",
     "output_type": "stream",
     "text": [
      "[[5 7]\n",
      " [3 3]]\n",
      " \n",
      "[[7 3]\n",
      " [9 6]]\n"
     ]
    }
   ],
   "source": [
    "import numpy as np\n",
    "mat1 = np.random.randint(1,10,(2,2))\n",
    "mat2 = np.random.randint(1,10,(2,2))\n",
    "\n",
    "print(mat1)\n",
    "print(\" \")\n",
    "print(mat2)\n",
    "\n"
   ]
  },
  {
   "cell_type": "code",
   "execution_count": 33,
   "metadata": {},
   "outputs": [
    {
     "data": {
      "text/plain": [
       "array([[98, 57],\n",
       "       [48, 27]])"
      ]
     },
     "execution_count": 33,
     "metadata": {},
     "output_type": "execute_result"
    }
   ],
   "source": [
    "np.matmul(mat1,mat2)\n"
   ]
  },
  {
   "cell_type": "code",
   "execution_count": 34,
   "metadata": {},
   "outputs": [
    {
     "name": "stdout",
     "output_type": "stream",
     "text": [
      "Result of custom matrix multiplication:\n",
      "[[98. 57.]\n",
      " [48. 27.]]\n",
      "\n",
      "Verification with numpy's matmul:\n",
      "[[98 57]\n",
      " [48 27]]\n",
      "\n",
      "Results are equal: True\n"
     ]
    }
   ],
   "source": [
    "\n",
    "def matrix_multiply(matrix1, matrix2):\n",
    "    if matrix1.shape[1] != matrix2.shape[0]:\n",
    "        raise ValueError(\"Matrices dimensions are not appropriate for multiplication\")\n",
    "    \n",
    "    result = np.zeros((matrix1.shape[0], matrix2.shape[1]))\n",
    "    \n",
    "    for i in range(matrix1.shape[1]):\n",
    "        column = matrix1[:, i:i+1]\n",
    "        for j in range(matrix2.shape[1]):\n",
    "            result[:, j:j+1] += column * matrix2[i, j]\n",
    "    \n",
    "    return result\n",
    "\n",
    "# Example usage\n",
    "result = matrix_multiply(mat1, mat2)\n",
    "print(\"Result of custom matrix multiplication:\")\n",
    "print(result)\n",
    "\n",
    "# Verify with numpy's matmul\n",
    "print(\"\\nVerification with numpy's matmul:\")\n",
    "print(np.matmul(mat1, mat2))\n",
    "\n",
    "# Check if results are equal\n",
    "print(\"\\nResults are equal:\", np.allclose(result, np.matmul(mat1, mat2)))\n",
    "\n",
    "\n"
   ]
  }
 ],
 "metadata": {
  "kernelspec": {
   "display_name": "base",
   "language": "python",
   "name": "python3"
  },
  "language_info": {
   "codemirror_mode": {
    "name": "ipython",
    "version": 3
   },
   "file_extension": ".py",
   "mimetype": "text/x-python",
   "name": "python",
   "nbconvert_exporter": "python",
   "pygments_lexer": "ipython3",
   "version": "3.12.4"
  }
 },
 "nbformat": 4,
 "nbformat_minor": 2
}
