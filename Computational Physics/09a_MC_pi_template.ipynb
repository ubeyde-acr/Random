{
 "cells": [
  {
   "cell_type": "markdown",
   "id": "2c8fc009",
   "metadata": {},
   "source": [
    "# Calculating \\\\(\\pi \\\\) using a Monte Carlo algorithm\n",
    "\n",
    "- Börge Göbel"
   ]
  },
  {
   "cell_type": "code",
   "execution_count": 1,
   "id": "1b276d72",
   "metadata": {},
   "outputs": [],
   "source": [
    "import numpy as np\n",
    "import matplotlib.pyplot as plt \n",
    "import matplotlib.patches as patches"
   ]
  },
  {
   "cell_type": "code",
   "execution_count": 2,
   "id": "a9c43ef1",
   "metadata": {},
   "outputs": [
    {
     "data": {
      "text/plain": [
       "(-1.1, 1.1)"
      ]
     },
     "execution_count": 2,
     "metadata": {},
     "output_type": "execute_result"
    },
    {
     "data": {
      "image/png": "[encoded data removed]",
      "text/plain": [
       "<Figure size 432x288 with 1 Axes>"
      ]
     },
     "metadata": {
      "needs_background": "light"
     },
     "output_type": "display_data"
    }
   ],
   "source": [
    "fig = plt.figure()\n",
    "ax = fig.add_subplot(111, aspect='equal')\n",
    "\n",
    "rectangle = patches.Rectangle((-1,-1),2,2, facecolor='red')\n",
    "ax.add_patch(rectangle)\n",
    "\n",
    "circle = patches.Circle((0,0),1, facecolor='none', edgecolor='blue')\n",
    "ax.add_patch(circle)\n",
    "\n",
    "plt.xlim([-1.1,1.1])\n",
    "plt.ylim([-1.1,1.1])"
   ]
  },
  {
   "cell_type": "markdown",
   "id": "6d65aeb8",
   "metadata": {},
   "source": [
    "## Comparing the areas\n",
    "\n",
    "Area of the circle: \\\\( A_\\mathrm{circle} = \\pi r^2 = \\pi\\\\)\n",
    "\n",
    "Area of the square: \\\\( A_\\mathrm{square} = a^2 = 4 \\\\)\n",
    "\n",
    "This means \\\\( \\pi = 4\\frac{A_\\mathrm{circle}}{A_\\mathrm{square}}\\\\). We can use this ratio to estimate the value of \\\\( \\pi \\\\). "
   ]
  },
  {
   "cell_type": "markdown",
   "id": "3f6b7efc",
   "metadata": {},
   "source": [
    "### Measure the area ratio by counting randomly generated points"
   ]
  },
  {
   "cell_type": "code",
   "execution_count": null,
   "id": "feb4c824",
   "metadata": {},
   "outputs": [],
   "source": []
  },
  {
   "cell_type": "markdown",
   "id": "be243d7b",
   "metadata": {},
   "source": [
    "### Alternative: Loop method"
   ]
  },
  {
   "cell_type": "code",
   "execution_count": null,
   "id": "11a314bf",
   "metadata": {},
   "outputs": [],
   "source": []
  },
  {
   "cell_type": "markdown",
   "id": "cb75b7bc",
   "metadata": {},
   "source": [
    "### Time comparison"
   ]
  },
  {
   "cell_type": "markdown",
   "id": "981afad6",
   "metadata": {},
   "source": [
    "Array/List method"
   ]
  },
  {
   "cell_type": "code",
   "execution_count": null,
   "id": "1fb6b472",
   "metadata": {},
   "outputs": [],
   "source": []
  },
  {
   "cell_type": "markdown",
   "id": "fe0661be",
   "metadata": {},
   "source": [
    "Loop method"
   ]
  },
  {
   "cell_type": "code",
   "execution_count": null,
   "id": "8f633877",
   "metadata": {},
   "outputs": [],
   "source": []
  }
 ],
 "metadata": {
  "kernelspec": {
   "display_name": "Python 3 (ipykernel)",
   "language": "python",
   "name": "python3"
  },
  "language_info": {
   "codemirror_mode": {
    "name": "ipython",
    "version": 3
   },
   "file_extension": ".py",
   "mimetype": "text/x-python",
   "name": "python",
   "nbconvert_exporter": "python",
   "pygments_lexer": "ipython3",
   "version": "3.9.7"
  }
 },
 "nbformat": 4,
 "nbformat_minor": 5
}
