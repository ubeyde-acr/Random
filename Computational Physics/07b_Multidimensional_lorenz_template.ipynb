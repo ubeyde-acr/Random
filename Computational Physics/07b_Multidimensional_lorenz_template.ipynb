{
 "cells": [
  {
   "cell_type": "markdown",
   "id": "c6805951",
   "metadata": {},
   "source": [
    "# Multidimensional differential equations\n",
    "\n",
    "- Börge Göbel "
   ]
  },
  {
   "cell_type": "code",
   "execution_count": 1,
   "id": "921259c3",
   "metadata": {},
   "outputs": [],
   "source": [
    "import numpy as np\n",
    "import matplotlib.pyplot as plt \n",
    "from scipy import integrate"
   ]
  },
  {
   "cell_type": "markdown",
   "id": "29eb17ec",
   "metadata": {},
   "source": [
    "## Lorenz system"
   ]
  },
  {
   "cell_type": "markdown",
   "id": "b461fb52",
   "metadata": {},
   "source": [
    "We solve the three coupled differential equations\n",
    "\n",
    "\\\\( \n",
    "\\dot{x} = a(y-x)\\\\\n",
    "\\dot{y} = x(b-z)-y\\\\\n",
    "\\dot{z} = xy-cz\\\\\n",
    "\\\\)\n",
    "\n",
    "Here \\\\( x,y,z \\\\) are the coordinates and \\\\( a,b,c \\\\) are coefficients"
   ]
  },
  {
   "cell_type": "code",
   "execution_count": null,
   "id": "d5595232",
   "metadata": {},
   "outputs": [],
   "source": []
  },
  {
   "cell_type": "markdown",
   "id": "a7493e05",
   "metadata": {},
   "source": [
    "### Chaotic solution: For b > 24.74, two repulsive points exist"
   ]
  },
  {
   "cell_type": "code",
   "execution_count": null,
   "id": "400f7724",
   "metadata": {},
   "outputs": [],
   "source": []
  },
  {
   "cell_type": "markdown",
   "id": "1687415c",
   "metadata": {},
   "source": [
    "### Non-chaotic solution: For b < 24.74, the two points become attractive"
   ]
  },
  {
   "cell_type": "code",
   "execution_count": null,
   "id": "9aa2a400",
   "metadata": {},
   "outputs": [],
   "source": []
  }
 ],
 "metadata": {
  "kernelspec": {
   "display_name": "Python 3 (ipykernel)",
   "language": "python",
   "name": "python3"
  },
  "language_info": {
   "codemirror_mode": {
    "name": "ipython",
    "version": 3
   },
   "file_extension": ".py",
   "mimetype": "text/x-python",
   "name": "python",
   "nbconvert_exporter": "python",
   "pygments_lexer": "ipython3",
   "version": "3.9.7"
  }
 },
 "nbformat": 4,
 "nbformat_minor": 5
}
