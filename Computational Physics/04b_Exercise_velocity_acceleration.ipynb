{
 "cells": [
  {
   "cell_type": "markdown",
   "id": "7f9508e6",
   "metadata": {},
   "source": [
    "# Exercise: Derivatives\n",
    "\n",
    "- by Börge Göbel"
   ]
  },
  {
   "cell_type": "code",
   "execution_count": 1,
   "id": "04fafd2c",
   "metadata": {},
   "outputs": [],
   "source": [
    "import numpy as np\n",
    "import matplotlib.pyplot as plt "
   ]
  },
  {
   "cell_type": "markdown",
   "id": "1d7d137f",
   "metadata": {},
   "source": [
    "### Load data"
   ]
  },
  {
   "cell_type": "code",
   "execution_count": 2,
   "id": "eeb0d15b",
   "metadata": {},
   "outputs": [],
   "source": [
    "data = np.loadtxt(\"04b_Exercise_velocity_acceleration_data_file.dat\")"
   ]
  },
  {
   "cell_type": "code",
   "execution_count": 3,
   "id": "c635be8b",
   "metadata": {},
   "outputs": [
    {
     "data": {
      "text/plain": [
       "array([[  0.        ,   1.        ],\n",
       "       [  0.1       ,   1.01980001],\n",
       "       [  0.2       ,   1.03920011],\n",
       "       ...,\n",
       "       [ 99.8       ,  15.25565932],\n",
       "       [ 99.9       ,  15.33160759],\n",
       "       [100.        ,  15.40808206]])"
      ]
     },
     "execution_count": 3,
     "metadata": {},
     "output_type": "execute_result"
    }
   ],
   "source": [
    "data"
   ]
  },
  {
   "cell_type": "code",
   "execution_count": 4,
   "id": "dc649d6e",
   "metadata": {},
   "outputs": [
    {
     "data": {
      "text/plain": [
       "<matplotlib.collections.PathCollection at 0x221e63d15e0>"
      ]
     },
     "execution_count": 4,
     "metadata": {},
     "output_type": "execute_result"
    },
    {
     "data": {
      "image/png": "[encoded data removed]",
      "text/plain": [
       "<Figure size 432x288 with 1 Axes>"
      ]
     },
     "metadata": {
      "needs_background": "light"
     },
     "output_type": "display_data"
    }
   ],
   "source": [
    "plt.xlabel('Time t [s]')\n",
    "plt.ylabel('Coordinate x [m]')\n",
    "plt.scatter(data[:,0],data[:,1])"
   ]
  },
  {
   "cell_type": "markdown",
   "id": "eb7db420",
   "metadata": {},
   "source": [
    "### Task"
   ]
  },
  {
   "cell_type": "markdown",
   "id": "96ae330b",
   "metadata": {},
   "source": [
    "Calculate the velocity \\\\(v(t)=\\dot{x}(t)\\\\) and the acceleration \\\\(a(t)=\\ddot{x}(t)\\\\) for the loaded data set that describes a set of points \\\\((t_i,x_i)\\\\) for \\\\(i=0,\\dots,1000\\\\).\n",
    "\n",
    "1. Calculate \\\\(v_i\\\\) and \\\\(a_i\\\\) using the forward-differences, central-differences and Richardson methods\n",
    "2. Determine the maximum value of the acceleration and the corresponding time.\n",
    "\n",
    "Be careful, now we do not know the function \\\\(x(t)\\\\) but only its values for specific points. You have to define the functions for the derivativesa bit differently."
   ]
  },
  {
   "cell_type": "markdown",
   "id": "c9c52bff",
   "metadata": {},
   "source": [
    "### Solution"
   ]
  },
  {
   "cell_type": "code",
   "execution_count": null,
   "id": "830aa249",
   "metadata": {},
   "outputs": [],
   "source": []
  },
  {
   "cell_type": "code",
   "execution_count": null,
   "id": "84015415",
   "metadata": {},
   "outputs": [],
   "source": []
  },
  {
   "cell_type": "code",
   "execution_count": null,
   "id": "65ded37e",
   "metadata": {},
   "outputs": [],
   "source": []
  },
  {
   "cell_type": "code",
   "execution_count": null,
   "id": "3d42bac5",
   "metadata": {},
   "outputs": [],
   "source": []
  }
 ],
 "metadata": {
  "kernelspec": {
   "display_name": "Python 3 (ipykernel)",
   "language": "python",
   "name": "python3"
  },
  "language_info": {
   "codemirror_mode": {
    "name": "ipython",
    "version": 3
   },
   "file_extension": ".py",
   "mimetype": "text/x-python",
   "name": "python",
   "nbconvert_exporter": "python",
   "pygments_lexer": "ipython3",
   "version": "3.9.7"
  }
 },
 "nbformat": 4,
 "nbformat_minor": 5
}
